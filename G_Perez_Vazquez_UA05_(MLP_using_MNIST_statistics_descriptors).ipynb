{
  "nbformat": 4,
  "nbformat_minor": 0,
  "metadata": {
    "colab": {
      "provenance": [],
      "machine_shape": "hm",
      "gpuType": "L4",
      "authorship_tag": "ABX9TyMZB4ZT2TDDMMCejT/PRAGe",
      "include_colab_link": true
    },
    "kernelspec": {
      "name": "python3",
      "display_name": "Python 3"
    },
    "language_info": {
      "name": "python"
    },
    "accelerator": "GPU"
  },
  "cells": [
    {
      "cell_type": "markdown",
      "metadata": {
        "id": "view-in-github",
        "colab_type": "text"
      },
      "source": [
        "<a href=\"https://colab.research.google.com/github/gerpervaz/MNIST/blob/main/G_Perez_Vazquez_UA05_(MLP_using_MNIST_statistics_descriptors).ipynb\" target=\"_parent\"><img src=\"https://colab.research.google.com/assets/colab-badge.svg\" alt=\"Open In Colab\"/></a>"
      ]
    },
    {
      "cell_type": "markdown",
      "source": [
        "**MLP using MNIST statistics descriptors**"
      ],
      "metadata": {
        "id": "PSaMN0s00Q2H"
      }
    },
    {
      "cell_type": "markdown",
      "source": [
        "Vamos a hacer uso si es posible de GPU"
      ],
      "metadata": {
        "id": "Io9u78QY0Stu"
      }
    },
    {
      "cell_type": "code",
      "source": [
        "import tensorflow as tf\n",
        "\n",
        "# Verificar si TensorFlow está utilizando la GPU\n",
        "print(\"Num GPUs Available: \", len(tf.config.experimental.list_physical_devices('GPU')))\n",
        "if tf.config.experimental.list_physical_devices('GPU'):\n",
        "    print(\"TensorFlow is using the GPU\")\n",
        "else:\n",
        "    print(\"TensorFlow is using the CPU\")"
      ],
      "metadata": {
        "colab": {
          "base_uri": "https://localhost:8080/"
        },
        "id": "LS7TH-5WELjG",
        "outputId": "e2f744a0-3c10-4606-80e0-f75fa585f6a0"
      },
      "execution_count": 1,
      "outputs": [
        {
          "output_type": "stream",
          "name": "stdout",
          "text": [
            "Num GPUs Available:  1\n",
            "TensorFlow is using the GPU\n"
          ]
        }
      ]
    },
    {
      "cell_type": "markdown",
      "source": [
        "Importamos las librerias que vamos a utilizar"
      ],
      "metadata": {
        "id": "PzqXoivG0M7W"
      }
    },
    {
      "cell_type": "code",
      "source": [
        "import numpy as np\n",
        "from sklearn.preprocessing import StandardScaler\n",
        "from sklearn.metrics import classification_report\n",
        "import matplotlib.pyplot as plt"
      ],
      "metadata": {
        "id": "3GcJ92HRzxIf"
      },
      "execution_count": 2,
      "outputs": []
    },
    {
      "cell_type": "markdown",
      "source": [
        "Realizamos unas transformaciones para añadir ruido a la base de datos de entrenamiento"
      ],
      "metadata": {
        "id": "aHu9bjPu0Cs3"
      }
    },
    {
      "cell_type": "code",
      "source": [
        "# Definir las transformaciones\n",
        "def preprocess_image(image, label):\n",
        "    image = tf.image.resize_with_crop_or_pad(image, 28, 28)\n",
        "    image = tf.image.random_crop(image, size=[28, 28, 1])\n",
        "    image = tf.image.random_flip_left_right(image)\n",
        "    image = tf.image.rot90(image, k=tf.random.uniform(shape=[], minval=0, maxval=4, dtype=tf.int32))\n",
        "    image = tf.cast(image, tf.float32) / 255.0\n",
        "    return image, label"
      ],
      "metadata": {
        "id": "vBjoAHlq0Z-1"
      },
      "execution_count": 3,
      "outputs": []
    },
    {
      "cell_type": "code",
      "source": [
        "# Cargar el dataset MNIST\n",
        "(x_train, y_train), (x_test, y_test) = tf.keras.datasets.mnist.load_data()"
      ],
      "metadata": {
        "colab": {
          "base_uri": "https://localhost:8080/"
        },
        "id": "17dBReXb0bAF",
        "outputId": "19a8532a-2a0e-423d-a1ec-96f9cca43a27"
      },
      "execution_count": 4,
      "outputs": [
        {
          "output_type": "stream",
          "name": "stdout",
          "text": [
            "Downloading data from https://storage.googleapis.com/tensorflow/tf-keras-datasets/mnist.npz\n",
            "11490434/11490434 [==============================] - 2s 0us/step\n"
          ]
        }
      ]
    },
    {
      "cell_type": "markdown",
      "source": [
        "PREPROCESAMIENTO DE LA BASE DE DATOS"
      ],
      "metadata": {
        "id": "BSPWSwBe0mzu"
      }
    },
    {
      "cell_type": "code",
      "source": [
        "# Expandir las dimensiones del dataset para que tengan la forma (28, 28, 1)\n",
        "x_train = x_train[..., tf.newaxis]\n",
        "x_test = x_test[..., tf.newaxis]\n",
        "\n",
        "# Crear datasets de TensorFlow\n",
        "train_dataset = tf.data.Dataset.from_tensor_slices((x_train, y_train))\n",
        "test_dataset = tf.data.Dataset.from_tensor_slices((x_test, y_test))\n",
        "\n",
        "# Aplicar las transformaciones a dichos datasets\n",
        "train_dataset = train_dataset.map(preprocess_image, num_parallel_calls=tf.data.experimental.AUTOTUNE)\n",
        "test_dataset = test_dataset.map(preprocess_image, num_parallel_calls=tf.data.experimental.AUTOTUNE)\n",
        "\n",
        "# Mezclar y preparar los datos para el entrenamiento\n",
        "train_dataset = train_dataset.shuffle(buffer_size=60000).batch(32).prefetch(tf.data.experimental.AUTOTUNE)\n",
        "test_dataset = test_dataset.batch(32).prefetch(tf.data.experimental.AUTOTUNE)"
      ],
      "metadata": {
        "id": "CfxNTofI0fSn"
      },
      "execution_count": 5,
      "outputs": []
    },
    {
      "cell_type": "markdown",
      "source": [
        "Creamos una función de calcula des estadísticas descriptivas de cada imagen (media, desviación estándar, cuartiles 1 y 3), de cada fila de la matriz de 28x28, de cada columna, y de la diagonal principal."
      ],
      "metadata": {
        "id": "o0bocMuI0uNm"
      }
    },
    {
      "cell_type": "code",
      "source": [
        "# Calcular estadísticas descriptivas\n",
        "def calculate_extended_statistics(images):\n",
        "    x_means, y_means, diag_means = [], [], []\n",
        "    x_stds, y_stds, diag_stds = [], [], []\n",
        "    x_q1s, y_q1s, diag_q1s = [], [], []\n",
        "    x_q3s, y_q3s, diag_q3s = [], [], []\n",
        "    x_maxs, y_maxs, diag_maxs = [], [], []\n",
        "    x_mins, y_mins, diag_mins = [], [], []\n",
        "\n",
        "    for image in images:\n",
        "        image = tf.squeeze(image).numpy()\n",
        "        x_means.append(np.mean(image, axis=1))\n",
        "        y_means.append(np.mean(image, axis=0))\n",
        "        diag_means.append(np.mean(np.diag(image)))\n",
        "\n",
        "        x_stds.append(np.std(image, axis=1))\n",
        "        y_stds.append(np.std(image, axis=0))\n",
        "        diag_stds.append(np.std(np.diag(image)))\n",
        "\n",
        "        x_q1s.append(np.percentile(image, 25, axis=1))\n",
        "        y_q1s.append(np.percentile(image, 25, axis=0))\n",
        "        diag_q1s.append(np.percentile(np.diag(image), 25))\n",
        "\n",
        "        x_q3s.append(np.percentile(image, 75, axis=1))\n",
        "        y_q3s.append(np.percentile(image, 75, axis=0))\n",
        "        diag_q3s.append(np.percentile(np.diag(image), 75))\n",
        "\n",
        "        x_maxs.append(np.max(image, axis=1))\n",
        "        y_maxs.append(np.max(image, axis=0))\n",
        "        diag_maxs.append(np.max(np.diag(image)))\n",
        "\n",
        "        x_mins.append(np.min(image, axis=1))\n",
        "        y_mins.append(np.min(image, axis=0))\n",
        "        diag_mins.append(np.min(np.diag(image)))\n",
        "\n",
        "    # Convertir las listas a matrices numpy\n",
        "    x_means = np.array(x_means).reshape(-1, 28)\n",
        "    y_means = np.array(y_means).reshape(-1, 28)\n",
        "    diag_means = np.array(diag_means).reshape(-1, 1)\n",
        "\n",
        "    x_stds = np.array(x_stds).reshape(-1, 28)\n",
        "    y_stds = np.array(y_stds).reshape(-1, 28)\n",
        "    diag_stds = np.array(diag_stds).reshape(-1, 1)\n",
        "\n",
        "    x_q1s = np.array(x_q1s).reshape(-1, 28)\n",
        "    y_q1s = np.array(y_q1s).reshape(-1, 28)\n",
        "    diag_q1s = np.array(diag_q1s).reshape(-1, 1)\n",
        "\n",
        "    x_q3s = np.array(x_q3s).reshape(-1, 28)\n",
        "    y_q3s = np.array(y_q3s).reshape(-1, 28)\n",
        "    diag_q3s = np.array(diag_q3s).reshape(-1, 1)\n",
        "\n",
        "    x_maxs = np.array(x_maxs).reshape(-1, 28)\n",
        "    y_maxs = np.array(y_maxs).reshape(-1, 28)\n",
        "    diag_maxs = np.array(diag_maxs).reshape(-1, 1)\n",
        "\n",
        "    x_mins = np.array(x_mins).reshape(-1, 28)\n",
        "    y_mins = np.array(y_mins).reshape(-1, 28)\n",
        "    diag_mins = np.array(diag_mins).reshape(-1, 1)\n",
        "\n",
        "    return (x_means, y_means, diag_means, x_stds, y_stds, diag_stds, x_q1s, y_q1s, diag_q1s, x_q3s, y_q3s, diag_q3s, x_maxs, y_maxs, diag_maxs, x_mins, y_mins, diag_mins)\n"
      ],
      "metadata": {
        "id": "DlFTx3st11en"
      },
      "execution_count": 6,
      "outputs": []
    },
    {
      "cell_type": "markdown",
      "source": [
        "Función para extraer características de cada dataset"
      ],
      "metadata": {
        "id": "6nkrDZ7o2CG_"
      }
    },
    {
      "cell_type": "code",
      "source": [
        "def extract_features(dataset):\n",
        "    x_means, y_means, diag_means = [], [], []\n",
        "    x_stds, y_stds, diag_stds = [], [], []\n",
        "    x_q1s, y_q1s, diag_q1s = [], [], []\n",
        "    x_q3s, y_q3s, diag_q3s = [], [], []\n",
        "    x_maxs, y_maxs, diag_maxs = [], [], []\n",
        "    x_mins, y_mins, diag_mins = [], [], []\n",
        "    labels = []\n",
        "\n",
        "    for batch in dataset:\n",
        "        images, label_batch = batch\n",
        "        stats = calculate_extended_statistics(images)\n",
        "\n",
        "        x_means.extend(stats[0])\n",
        "        y_means.extend(stats[1])\n",
        "        diag_means.extend(stats[2])\n",
        "\n",
        "        x_stds.extend(stats[3])\n",
        "        y_stds.extend(stats[4])\n",
        "        diag_stds.extend(stats[5])\n",
        "\n",
        "        x_q1s.extend(stats[6])\n",
        "        y_q1s.extend(stats[7])\n",
        "        diag_q1s.extend(stats[8])\n",
        "\n",
        "        x_q3s.extend(stats[9])\n",
        "        y_q3s.extend(stats[10])\n",
        "        diag_q3s.extend(stats[11])\n",
        "\n",
        "        x_maxs.extend(stats[12])\n",
        "        y_maxs.extend(stats[13])\n",
        "        diag_maxs.extend(stats[14])\n",
        "\n",
        "        x_mins.extend(stats[15])\n",
        "        y_mins.extend(stats[16])\n",
        "        diag_mins.extend(stats[17])\n",
        "\n",
        "        labels.extend(label_batch.numpy())\n",
        "\n",
        "    return (np.array(x_means), np.array(y_means), np.array(diag_means), np.array(x_stds), np.array(y_stds), np.array(diag_stds), np.array(x_q1s), np.array(y_q1s), np.array(diag_q1s), np.array(x_q3s), np.array(y_q3s), np.array(diag_q3s), np.array(x_maxs), np.array(y_maxs), np.array(diag_maxs), np.array(x_mins), np.array(y_mins), np.array(diag_mins)), np.array(labels)\n",
        "\n"
      ],
      "metadata": {
        "id": "fyBudYuZz1OF"
      },
      "execution_count": 7,
      "outputs": []
    },
    {
      "cell_type": "code",
      "source": [
        "train_features, y_train = extract_features(train_dataset)\n",
        "test_features, y_test = extract_features(test_dataset)\n",
        "\n",
        "# Concatenar las características para formar el conjunto de características final\n",
        "X_train_stats = np.hstack(train_features)\n",
        "X_test_stats = np.hstack(test_features)\n",
        "\n",
        "# Escalar las características\n",
        "scaler = StandardScaler()\n",
        "X_train_stats = scaler.fit_transform(X_train_stats)\n",
        "X_test_stats = scaler.transform(X_test_stats)\n",
        "\n",
        "# Convertir etiquetas a one-hot encoding\n",
        "y_train_one_hot = tf.keras.utils.to_categorical(y_train, 10)\n",
        "y_test_one_hot = tf.keras.utils.to_categorical(y_test, 10)\n",
        "\n"
      ],
      "metadata": {
        "id": "5-TuLykP2Onv"
      },
      "execution_count": 8,
      "outputs": []
    },
    {
      "cell_type": "code",
      "source": [
        "# Definir el modelo Softmax en TensorFlow con múltiples capas\n",
        "model = tf.keras.Sequential([\n",
        "    tf.keras.layers.Dense(128, activation='relu', input_shape=(X_train_stats.shape[1],)),\n",
        "    tf.keras.layers.Dropout(0.5),\n",
        "    tf.keras.layers.Dense(64, activation='relu'),\n",
        "    tf.keras.layers.Dropout(0.5),\n",
        "    tf.keras.layers.Dense(32, activation='relu'),\n",
        "    tf.keras.layers.Dense(10, activation='softmax')\n",
        "])\n",
        "\n",
        "# Compilar el modelo\n",
        "optimizer = tf.keras.optimizers.Adam(learning_rate=0.001)\n",
        "model.compile(optimizer=optimizer, loss='categorical_crossentropy', metrics=['accuracy'])\n",
        "\n"
      ],
      "metadata": {
        "id": "Cg3r7Bgh2XX2"
      },
      "execution_count": 9,
      "outputs": []
    },
    {
      "cell_type": "code",
      "source": [
        "# Entrenar el modelo y almacenar el historial\n",
        "history = model.fit(X_train_stats, y_train_one_hot, epochs=50, batch_size=32, validation_split=0.2)\n",
        "\n"
      ],
      "metadata": {
        "colab": {
          "base_uri": "https://localhost:8080/"
        },
        "id": "9QqmTES72XTH",
        "outputId": "d31181ad-7514-4ee5-cf89-5477fe3edcfd"
      },
      "execution_count": 10,
      "outputs": [
        {
          "output_type": "stream",
          "name": "stdout",
          "text": [
            "Epoch 1/50\n",
            "1500/1500 [==============================] - 8s 3ms/step - loss: 1.5691 - accuracy: 0.4458 - val_loss: 1.0677 - val_accuracy: 0.6495\n",
            "Epoch 2/50\n",
            "1500/1500 [==============================] - 5s 3ms/step - loss: 1.2244 - accuracy: 0.5802 - val_loss: 0.9119 - val_accuracy: 0.7102\n",
            "Epoch 3/50\n",
            "1500/1500 [==============================] - 5s 3ms/step - loss: 1.1131 - accuracy: 0.6236 - val_loss: 0.8264 - val_accuracy: 0.7349\n",
            "Epoch 4/50\n",
            "1500/1500 [==============================] - 5s 3ms/step - loss: 1.0375 - accuracy: 0.6523 - val_loss: 0.8007 - val_accuracy: 0.7442\n",
            "Epoch 5/50\n",
            "1500/1500 [==============================] - 5s 3ms/step - loss: 0.9956 - accuracy: 0.6684 - val_loss: 0.7509 - val_accuracy: 0.7558\n",
            "Epoch 6/50\n",
            "1500/1500 [==============================] - 5s 3ms/step - loss: 0.9522 - accuracy: 0.6813 - val_loss: 0.7167 - val_accuracy: 0.7699\n",
            "Epoch 7/50\n",
            "1500/1500 [==============================] - 5s 3ms/step - loss: 0.9242 - accuracy: 0.6895 - val_loss: 0.6861 - val_accuracy: 0.7770\n",
            "Epoch 8/50\n",
            "1500/1500 [==============================] - 5s 3ms/step - loss: 0.9052 - accuracy: 0.6988 - val_loss: 0.6851 - val_accuracy: 0.7790\n",
            "Epoch 9/50\n",
            "1500/1500 [==============================] - 5s 3ms/step - loss: 0.8851 - accuracy: 0.7085 - val_loss: 0.6661 - val_accuracy: 0.7897\n",
            "Epoch 10/50\n",
            "1500/1500 [==============================] - 5s 3ms/step - loss: 0.8635 - accuracy: 0.7138 - val_loss: 0.6548 - val_accuracy: 0.7895\n",
            "Epoch 11/50\n",
            "1500/1500 [==============================] - 5s 3ms/step - loss: 0.8503 - accuracy: 0.7191 - val_loss: 0.6476 - val_accuracy: 0.7940\n",
            "Epoch 12/50\n",
            "1500/1500 [==============================] - 5s 3ms/step - loss: 0.8433 - accuracy: 0.7214 - val_loss: 0.6419 - val_accuracy: 0.7927\n",
            "Epoch 13/50\n",
            "1500/1500 [==============================] - 5s 3ms/step - loss: 0.8328 - accuracy: 0.7245 - val_loss: 0.6233 - val_accuracy: 0.8012\n",
            "Epoch 14/50\n",
            "1500/1500 [==============================] - 5s 3ms/step - loss: 0.8192 - accuracy: 0.7292 - val_loss: 0.6248 - val_accuracy: 0.8048\n",
            "Epoch 15/50\n",
            "1500/1500 [==============================] - 5s 3ms/step - loss: 0.8139 - accuracy: 0.7311 - val_loss: 0.6256 - val_accuracy: 0.8026\n",
            "Epoch 16/50\n",
            "1500/1500 [==============================] - 5s 3ms/step - loss: 0.8083 - accuracy: 0.7328 - val_loss: 0.6256 - val_accuracy: 0.8023\n",
            "Epoch 17/50\n",
            "1500/1500 [==============================] - 5s 3ms/step - loss: 0.7985 - accuracy: 0.7358 - val_loss: 0.6065 - val_accuracy: 0.8064\n",
            "Epoch 18/50\n",
            "1500/1500 [==============================] - 5s 3ms/step - loss: 0.7935 - accuracy: 0.7378 - val_loss: 0.6070 - val_accuracy: 0.8097\n",
            "Epoch 19/50\n",
            "1500/1500 [==============================] - 5s 3ms/step - loss: 0.7884 - accuracy: 0.7396 - val_loss: 0.6096 - val_accuracy: 0.8108\n",
            "Epoch 20/50\n",
            "1500/1500 [==============================] - 5s 3ms/step - loss: 0.7737 - accuracy: 0.7452 - val_loss: 0.6035 - val_accuracy: 0.8083\n",
            "Epoch 21/50\n",
            "1500/1500 [==============================] - 5s 3ms/step - loss: 0.7755 - accuracy: 0.7449 - val_loss: 0.6062 - val_accuracy: 0.8087\n",
            "Epoch 22/50\n",
            "1500/1500 [==============================] - 5s 3ms/step - loss: 0.7679 - accuracy: 0.7451 - val_loss: 0.5759 - val_accuracy: 0.8139\n",
            "Epoch 23/50\n",
            "1500/1500 [==============================] - 5s 3ms/step - loss: 0.7637 - accuracy: 0.7471 - val_loss: 0.5851 - val_accuracy: 0.8186\n",
            "Epoch 24/50\n",
            "1500/1500 [==============================] - 5s 3ms/step - loss: 0.7618 - accuracy: 0.7488 - val_loss: 0.5903 - val_accuracy: 0.8105\n",
            "Epoch 25/50\n",
            "1500/1500 [==============================] - 5s 3ms/step - loss: 0.7519 - accuracy: 0.7523 - val_loss: 0.5743 - val_accuracy: 0.8218\n",
            "Epoch 26/50\n",
            "1500/1500 [==============================] - 5s 3ms/step - loss: 0.7549 - accuracy: 0.7533 - val_loss: 0.5833 - val_accuracy: 0.8187\n",
            "Epoch 27/50\n",
            "1500/1500 [==============================] - 5s 3ms/step - loss: 0.7491 - accuracy: 0.7524 - val_loss: 0.5868 - val_accuracy: 0.8199\n",
            "Epoch 28/50\n",
            "1500/1500 [==============================] - 5s 3ms/step - loss: 0.7413 - accuracy: 0.7575 - val_loss: 0.5713 - val_accuracy: 0.8261\n",
            "Epoch 29/50\n",
            "1500/1500 [==============================] - 5s 3ms/step - loss: 0.7426 - accuracy: 0.7563 - val_loss: 0.5737 - val_accuracy: 0.8225\n",
            "Epoch 30/50\n",
            "1500/1500 [==============================] - 5s 3ms/step - loss: 0.7416 - accuracy: 0.7569 - val_loss: 0.5690 - val_accuracy: 0.8258\n",
            "Epoch 31/50\n",
            "1500/1500 [==============================] - 5s 3ms/step - loss: 0.7377 - accuracy: 0.7564 - val_loss: 0.5706 - val_accuracy: 0.8253\n",
            "Epoch 32/50\n",
            "1500/1500 [==============================] - 5s 3ms/step - loss: 0.7292 - accuracy: 0.7605 - val_loss: 0.5888 - val_accuracy: 0.8158\n",
            "Epoch 33/50\n",
            "1500/1500 [==============================] - 5s 3ms/step - loss: 0.7301 - accuracy: 0.7609 - val_loss: 0.5634 - val_accuracy: 0.8250\n",
            "Epoch 34/50\n",
            "1500/1500 [==============================] - 5s 3ms/step - loss: 0.7307 - accuracy: 0.7614 - val_loss: 0.5654 - val_accuracy: 0.8267\n",
            "Epoch 35/50\n",
            "1500/1500 [==============================] - 5s 3ms/step - loss: 0.7258 - accuracy: 0.7611 - val_loss: 0.5586 - val_accuracy: 0.8267\n",
            "Epoch 36/50\n",
            "1500/1500 [==============================] - 5s 3ms/step - loss: 0.7226 - accuracy: 0.7636 - val_loss: 0.5589 - val_accuracy: 0.8248\n",
            "Epoch 37/50\n",
            "1500/1500 [==============================] - 5s 3ms/step - loss: 0.7268 - accuracy: 0.7627 - val_loss: 0.5531 - val_accuracy: 0.8326\n",
            "Epoch 38/50\n",
            "1500/1500 [==============================] - 5s 3ms/step - loss: 0.7139 - accuracy: 0.7678 - val_loss: 0.5566 - val_accuracy: 0.8308\n",
            "Epoch 39/50\n",
            "1500/1500 [==============================] - 5s 3ms/step - loss: 0.7135 - accuracy: 0.7666 - val_loss: 0.5514 - val_accuracy: 0.8315\n",
            "Epoch 40/50\n",
            "1500/1500 [==============================] - 5s 3ms/step - loss: 0.7150 - accuracy: 0.7664 - val_loss: 0.5612 - val_accuracy: 0.8263\n",
            "Epoch 41/50\n",
            "1500/1500 [==============================] - 5s 3ms/step - loss: 0.7057 - accuracy: 0.7684 - val_loss: 0.5537 - val_accuracy: 0.8333\n",
            "Epoch 42/50\n",
            "1500/1500 [==============================] - 5s 3ms/step - loss: 0.7081 - accuracy: 0.7692 - val_loss: 0.5601 - val_accuracy: 0.8303\n",
            "Epoch 43/50\n",
            "1500/1500 [==============================] - 5s 3ms/step - loss: 0.7044 - accuracy: 0.7703 - val_loss: 0.5563 - val_accuracy: 0.8315\n",
            "Epoch 44/50\n",
            "1500/1500 [==============================] - 5s 3ms/step - loss: 0.7049 - accuracy: 0.7691 - val_loss: 0.5643 - val_accuracy: 0.8246\n",
            "Epoch 45/50\n",
            "1500/1500 [==============================] - 5s 3ms/step - loss: 0.7029 - accuracy: 0.7694 - val_loss: 0.5522 - val_accuracy: 0.8314\n",
            "Epoch 46/50\n",
            "1500/1500 [==============================] - 5s 3ms/step - loss: 0.6995 - accuracy: 0.7720 - val_loss: 0.5498 - val_accuracy: 0.8313\n",
            "Epoch 47/50\n",
            "1500/1500 [==============================] - 5s 3ms/step - loss: 0.6999 - accuracy: 0.7719 - val_loss: 0.5469 - val_accuracy: 0.8328\n",
            "Epoch 48/50\n",
            "1500/1500 [==============================] - 5s 3ms/step - loss: 0.7007 - accuracy: 0.7716 - val_loss: 0.5552 - val_accuracy: 0.8342\n",
            "Epoch 49/50\n",
            "1500/1500 [==============================] - 5s 3ms/step - loss: 0.7002 - accuracy: 0.7710 - val_loss: 0.5369 - val_accuracy: 0.8342\n",
            "Epoch 50/50\n",
            "1500/1500 [==============================] - 5s 3ms/step - loss: 0.6992 - accuracy: 0.7719 - val_loss: 0.5567 - val_accuracy: 0.8285\n"
          ]
        }
      ]
    },
    {
      "cell_type": "code",
      "source": [
        "# Evaluar el modelo en el conjunto de prueba\n",
        "loss, accuracy = model.evaluate(X_test_stats, y_test_one_hot)\n",
        "print(f\"Test Accuracy: {accuracy}\")\n",
        "\n",
        "# Generar el informe de clasificación\n",
        "y_test_pred = np.argmax(model.predict(X_test_stats), axis=1)\n",
        "print(classification_report(y_test, y_test_pred))"
      ],
      "metadata": {
        "colab": {
          "base_uri": "https://localhost:8080/"
        },
        "id": "rbF4tC0Q2bSG",
        "outputId": "4a4af4c2-aff2-4161-8b03-78e11a9c52f7"
      },
      "execution_count": 11,
      "outputs": [
        {
          "output_type": "stream",
          "name": "stdout",
          "text": [
            "313/313 [==============================] - 1s 2ms/step - loss: 0.5578 - accuracy: 0.8226\n",
            "Test Accuracy: 0.8226000070571899\n",
            "313/313 [==============================] - 1s 1ms/step\n",
            "              precision    recall  f1-score   support\n",
            "\n",
            "           0       0.94      0.96      0.95       980\n",
            "           1       0.98      0.98      0.98      1135\n",
            "           2       0.71      0.69      0.70      1032\n",
            "           3       0.85      0.59      0.70      1010\n",
            "           4       0.85      0.82      0.84       982\n",
            "           5       0.60      0.74      0.66       892\n",
            "           6       0.84      0.83      0.83       958\n",
            "           7       0.87      0.86      0.86      1028\n",
            "           8       0.82      0.88      0.85       974\n",
            "           9       0.79      0.86      0.82      1009\n",
            "\n",
            "    accuracy                           0.82     10000\n",
            "   macro avg       0.82      0.82      0.82     10000\n",
            "weighted avg       0.83      0.82      0.82     10000\n",
            "\n"
          ]
        }
      ]
    },
    {
      "cell_type": "code",
      "source": [
        "import matplotlib.pyplot as plt\n",
        "\n",
        "# Gráfica de precisión\n",
        "plt.figure(figsize=(10, 5))\n",
        "plt.plot(history.history['accuracy'], label='Train Accuracy')\n",
        "plt.plot(history.history['val_accuracy'], label='Validation Accuracy')\n",
        "plt.title('Model accuracy')\n",
        "plt.ylabel('Accuracy')\n",
        "plt.xlabel('Epoch')\n",
        "plt.legend(loc='upper left')\n",
        "plt.show()\n",
        "\n",
        "# Gráfica de pérdida\n",
        "plt.figure(figsize=(10, 5))\n",
        "plt.plot(history.history['loss'], label='Train Loss')\n",
        "plt.plot(history.history['val_loss'], label='Validation Loss')\n",
        "plt.title('Model loss')\n",
        "plt.ylabel('Loss')\n",
        "plt.xlabel('Epoch')\n",
        "plt.legend(loc='upper right')\n",
        "plt.show()\n"
      ],
      "metadata": {
        "colab": {
          "base_uri": "https://localhost:8080/",
          "height": 957
        },
        "id": "URjjvJERF0yu",
        "outputId": "a4d83b5b-e164-4266-dd8e-dcd3e997fe59"
      },
      "execution_count": 12,
      "outputs": [
        {
          "output_type": "display_data",
          "data": {
            "text/plain": [
              "<Figure size 1000x500 with 1 Axes>"
            ],
            "image/png": "[encoded data removed]"
          },
          "metadata": {}
        },
        {
          "output_type": "display_data",
          "data": {
            "text/plain": [
              "<Figure size 1000x500 with 1 Axes>"
            ],
            "image/png": "[encoded data removed]"
          },
          "metadata": {}
        }
      ]
    }
  ]
}